future_days = 30  # Number of days to predict into the future
last_date = data.index[-1]
future_dates = pd.date_range(start=last_date + BDay(1), periods=future_days, freq=BDay())
future_data = pd.DataFrame(index=future_dates, columns=data.columns)

future_data = future_data.dropna(axis=1, how='all')

data = pd.concat([data, future_data])

data['MA20'] = data['Close'].rolling(window=20).mean()
data['MA50'] = data['Close'].rolling(window=50).mean()

data['Close'].ffill(inplace=True)
data['MA20'].ffill(inplace=True)
data['MA50'].ffill(inplace=True)

X_future = data[['Close', 'MA20', 'MA50']].tail(future_days)
X_future.dropna(inplace=True)  # Drop rows if any NaNs still exist
X_future_scaled = scaler.transform(X_future)
future_predictions = model.predict(X_future_scaled)

data.loc[X_future.index, 'Predicted'] = future_predictions

plt.figure(figsize=(14,7))
plt.plot(data.index, data['Close'], color='blue', label='Historical Prices')
plt.plot(data.index, data['Predicted'], color='red', linestyle='--', label='Predicted Future Prices')
plt.title(f'{ticker} Stock Price Prediction')
plt.xlabel('Date')
plt.ylabel('Stock Price')
plt.legend()
plt.show()

with open('linear_regression_model.pkl', 'wb') as file:
    pickle.dump(model, file)
