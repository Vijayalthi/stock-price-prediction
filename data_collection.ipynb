ticker = 'TSLA'  # Change this ticker symbol to predict other stocks
data = yf.download(ticker, start='2023-04-01', end='2024-01-01')
