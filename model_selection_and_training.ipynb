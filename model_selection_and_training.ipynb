model = LinearRegression()
model.fit(X_train_scaled, y_train)
