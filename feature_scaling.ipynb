X = data[['Close', 'MA20', 'MA50']]
y = data['Close'].shift(-1)  # Predicting next day's closing price
X = X[:-1]  # Drop the last row to align with shifted target
y = y[:-1]
