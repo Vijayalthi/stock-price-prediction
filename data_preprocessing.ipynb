data.ffill(inplace=True)  # Fill missing values with forward fill
data['MA20'] = data['Close'].rolling(window=20).mean()
data['MA50'] = data['Close'].rolling(window=50).mean()
data.dropna(inplace=True)
